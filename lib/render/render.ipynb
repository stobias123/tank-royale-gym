{
 "cells": [
  {
   "cell_type": "code",
   "execution_count": 73,
   "metadata": {
    "collapsed": true,
    "pycharm": {
     "name": "#%%\n"
    }
   },
   "outputs": [],
   "source": [
    "import torch\n",
    "from tank_royal_manager.robocode_event_models import ScannedBotEvent\n",
    "import numpy as np\n",
    "import cv2 as cv\n",
    "import torch as t\n",
    "from torchvision.transforms import ToPILImage\n",
    "import torchvision.transforms as transforms\n",
    "from matplotlib import pyplot as plt\n",
    "\n",
    "to_img = ToPILImage()\n",
    "\n",
    "basic_scanned_bot_event = ScannedBotEvent(\n",
    "        scannedBotId = 2,\n",
    "        scannedByBotId = 1,\n",
    "        energy=2.8,\n",
    "        x=473,\n",
    "        y=241,\n",
    "        direction=270,\n",
    "        speed=1)\n",
    "width = 800\n",
    "height = 600"
   ]
  },
  {
   "cell_type": "code",
   "execution_count": 74,
   "outputs": [],
   "source": [
    "img_shape = (height,width,3)\n",
    "tank_bounding_radius = 18 # From rules.kt\n",
    "color = (0,255,0)\n",
    "thickness = 2\n",
    "start_point = (int(basic_scanned_bot_event.x), int(basic_scanned_bot_event.y))"
   ],
   "metadata": {
    "collapsed": false,
    "pycharm": {
     "name": "#%%\n"
    }
   }
  },
  {
   "cell_type": "code",
   "execution_count": 75,
   "outputs": [
    {
     "data": {
      "text/plain": "<PIL.Image.Image image mode=RGB size=800x600>",
      "image/png": "[encoded data removed]"
     },
     "execution_count": 75,
     "metadata": {},
     "output_type": "execute_result"
    }
   ],
   "source": [
    "img = np.zeros(img_shape, np.uint8)\n",
    "cv.circle(img, start_point, tank_bounding_radius, (0,255,0),-1)\n",
    "#image = cv.rectangle(img, start_point, end_point, color, thickness)\n",
    "transform = transforms.ToTensor()\n",
    "tensor = transform(img)\n",
    "to_img(tensor)"
   ],
   "metadata": {
    "collapsed": false,
    "pycharm": {
     "name": "#%%\n"
    }
   }
  },
  {
   "cell_type": "code",
   "execution_count": 97,
   "outputs": [],
   "source": [
    "from tank_royal_manager.robocode_event_models import TickEventForBot\n",
    "import json\n",
    "\n",
    "full_tick_event = '{\"type\": \"TickEventForBot\", \"roundNumber\": 1, \"enemyCount\": 1, \"botState\": {\"energy\": 100.0, \"x\": 463.4280497345315, \"y\": 164.47427615434802, \"direction\": 348.51705055620755, \"gunDirection\": 348.51705055620755, \"radarDirection\": 213.51705055620755, \"radarSweep\": 45.0, \"speed\": 1.0, \"turnRate\": 0.0, \"gunTurnRate\": 0.0, \"radarTurnRate\": 45.0, \"gunHeat\": 0.0, \"bodyColor\": null, \"turretColor\": null, \"radarColor\": null, \"bulletColor\": null, \"scanColor\": null, \"tracksColor\": null, \"gunColor\": null}, \"bulletStates\": [{\"bulletId\": 1, \"ownerId\": 2, \"power\": 1.0, \"x\": 107.69258876807527, \"y\": 126.57878303697831, \"direction\": 180.24192112119894, \"color\": null}], \"events\": [{\"scannedByBotId\": 1, \"scannedBotId\": 2, \"energy\": 99.0, \"x\": 124.69243723041103, \"y\": 126.65056226531365, \"direction\": 180.24192112119894, \"speed\": 0.0, \"turnNumber\": 39, \"type\": \"ScannedBotEvent\"}]}'\n",
    "tick_dict = json.loads(full_tick_event)\n",
    "tick_event = TickEventForBot(**tick_dict)\n"
   ],
   "metadata": {
    "collapsed": false,
    "pycharm": {
     "name": "#%%\n"
    }
   }
  },
  {
   "cell_type": "code",
   "execution_count": 98,
   "outputs": [],
   "source": [
    "bullet_state_event = '{\"bulletId\": 1, \"ownerId\": 2, \"power\": 1.0, \"x\": 107.69258876807527, \"y\": 126.57878303697831, \"direction\": 180.24192112119894, \"color\": null}'\n",
    "self_state_event = '{\"energy\": 100.0, \"x\": 463.4280497345315, \"y\": 164.47427615434802, \"direction\": 348.51705055620755, \"gunDirection\": 348.51705055620755, \"radarDirection\": 213.51705055620755, \"radarSweep\": 45.0, \"speed\": 1.0, \"turnRate\": 0.0, \"gunTurnRate\": 0.0, \"radarTurnRate\": 45.0, \"gunHeat\": 0.0, \"bodyColor\": null, \"turretColor\": null, \"radarColor\": null, \"bulletColor\": null, \"scanColor\": null, \"tracksColor\": null, \"gunColor\": null}'"
   ],
   "metadata": {
    "collapsed": false,
    "pycharm": {
     "name": "#%%\n"
    }
   }
  },
  {
   "cell_type": "code",
   "execution_count": 99,
   "outputs": [],
   "source": [
    "from tank_royal_manager.robocode_event_models import BulletState\n",
    "\n",
    "def draw_scanned_bot(img, event: ScannedBotEvent):\n",
    "        print(event)\n",
    "        tank_bounding_radius = 18\n",
    "        color = (255,0,0)\n",
    "        cv.circle(img,(int(event.x), int(event.y)),tank_bounding_radius,color,-1)\n",
    "def draw_scanned_bullet(img, event: BulletState):\n",
    "        print(event)\n",
    "        bullet_bounding_radius=5\n",
    "        color = (0,0,255)\n",
    "        cv.circle(img,(int(event.x), int(event.y)),bullet_bounding_radius,color,-1)\n",
    "def draw_tick(tick_event: TickEventForBot):\n",
    "        img = np.zeros(img_shape, np.uint8)\n",
    "        for event in tick_event.events:\n",
    "                if event['type'] == \"ScannedBotEvent\":\n",
    "                        draw_scanned_bot(img,ScannedBotEvent(**event))\n",
    "        for bullet in tick_event.bulletStates:\n",
    "                print(bullet)\n",
    "                draw_scanned_bullet(img, bullet)\n",
    "        return img"
   ],
   "metadata": {
    "collapsed": false,
    "pycharm": {
     "name": "#%%\n"
    }
   }
  },
  {
   "cell_type": "code",
   "execution_count": 100,
   "outputs": [
    {
     "name": "stdout",
     "output_type": "stream",
     "text": [
      "type=<MessageType.ScannedBotEvent: 'ScannedBotEvent'> scannedByBotId=1 scannedBotId=2 energy=99.0 x=124.69243723041103 y=126.65056226531365 direction=180.24192112119894 speed=0.0\n",
      "bulletId=1 ownerId=2 power=1.0 x=107.69258876807527 y=126.57878303697831 direction=180.24192112119894 color=None\n",
      "bulletId=1 ownerId=2 power=1.0 x=107.69258876807527 y=126.57878303697831 direction=180.24192112119894 color=None\n"
     ]
    },
    {
     "data": {
      "text/plain": "<PIL.Image.Image image mode=RGB size=800x600>",
      "image/png": "[encoded data removed]"
     },
     "execution_count": 100,
     "metadata": {},
     "output_type": "execute_result"
    }
   ],
   "source": [
    "img = draw_tick(tick_event)\n",
    "transform = transforms.ToTensor()\n",
    "tensor = transform(img)\n",
    "to_img(tensor)"
   ],
   "metadata": {
    "collapsed": false,
    "pycharm": {
     "name": "#%%\n"
    }
   }
  },
  {
   "cell_type": "code",
   "execution_count": null,
   "outputs": [],
   "source": [],
   "metadata": {
    "collapsed": false,
    "pycharm": {
     "name": "#%%\n"
    }
   }
  }
 ],
 "metadata": {
  "kernelspec": {
   "display_name": "Python 3",
   "language": "python",
   "name": "python3"
  },
  "language_info": {
   "codemirror_mode": {
    "name": "ipython",
    "version": 2
   },
   "file_extension": ".py",
   "mimetype": "text/x-python",
   "name": "python",
   "nbconvert_exporter": "python",
   "pygments_lexer": "ipython2",
   "version": "2.7.6"
  }
 },
 "nbformat": 4,
 "nbformat_minor": 0
}