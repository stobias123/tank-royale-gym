{
 "cells": [
  {
   "cell_type": "code",
   "execution_count": 1,
   "metadata": {
    "collapsed": true,
    "pycharm": {
     "name": "#%%\n"
    }
   },
   "outputs": [
    {
     "name": "stderr",
     "output_type": "stream",
     "text": [
      "/Users/steven.tobias/repos/misc_projects/tank-royal-gym/venv/lib/python3.9/site-packages/gym/envs/registration.py:505: UserWarning: \u001B[33mWARN: The environment Pong-v0 is out of date. You should consider upgrading to version `v5` with the environment ID `ALE/Pong-v5`.\u001B[0m\n",
      "  logger.warn(\n",
      "A.L.E: Arcade Learning Environment (version 0.7.5+db37282)\n",
      "[Powered by Stella]\n"
     ]
    }
   ],
   "source": [
    "import gym\n",
    "env = gym.make('Pong-v0')\n",
    "env.reset()\n",
    "obs = env.step(env.action_space.sample())"
   ]
  },
  {
   "cell_type": "code",
   "execution_count": 2,
   "outputs": [
    {
     "data": {
      "text/plain": "(array([[[  0,   0,   0],\n         [  0,   0,   0],\n         [  0,   0,   0],\n         ...,\n         [144,  72,  17],\n         [144,  72,  17],\n         [144,  72,  17]],\n \n        [[144,  72,  17],\n         [144,  72,  17],\n         [144,  72,  17],\n         ...,\n         [144,  72,  17],\n         [144,  72,  17],\n         [144,  72,  17]],\n \n        [[144,  72,  17],\n         [144,  72,  17],\n         [144,  72,  17],\n         ...,\n         [144,  72,  17],\n         [144,  72,  17],\n         [144,  72,  17]],\n \n        ...,\n \n        [[236, 236, 236],\n         [236, 236, 236],\n         [236, 236, 236],\n         ...,\n         [236, 236, 236],\n         [236, 236, 236],\n         [236, 236, 236]],\n \n        [[236, 236, 236],\n         [236, 236, 236],\n         [236, 236, 236],\n         ...,\n         [236, 236, 236],\n         [236, 236, 236],\n         [236, 236, 236]],\n \n        [[236, 236, 236],\n         [236, 236, 236],\n         [236, 236, 236],\n         ...,\n         [236, 236, 236],\n         [236, 236, 236],\n         [236, 236, 236]]], dtype=uint8),\n 0.0,\n False,\n {'lives': 0, 'episode_frame_number': 3, 'frame_number': 3})"
     },
     "execution_count": 2,
     "metadata": {},
     "output_type": "execute_result"
    }
   ],
   "source": [
    "obs"
   ],
   "metadata": {
    "collapsed": false,
    "pycharm": {
     "name": "#%%\n"
    }
   }
  },
  {
   "cell_type": "code",
   "execution_count": 12,
   "outputs": [
    {
     "data": {
      "text/plain": "(210, 160, 3)"
     },
     "execution_count": 12,
     "metadata": {},
     "output_type": "execute_result"
    }
   ],
   "source": [
    "obs[0].shape"
   ],
   "metadata": {
    "collapsed": false,
    "pycharm": {
     "name": "#%%\n"
    }
   }
  },
  {
   "cell_type": "code",
   "execution_count": 3,
   "outputs": [
    {
     "name": "stderr",
     "output_type": "stream",
     "text": [
      "WARNING:websocket:websocket connected\n",
      "WARNING:websocket:websocket connected\n",
      "WARNING:websocket:websocket connected\n",
      "ERROR:websocket:Connection to remote host was lost. - reconnecting\n",
      "ERROR:websocket:Connection to remote host was lost. - reconnecting\n",
      "ERROR:websocket:Connection to remote host was lost. - reconnecting\n",
      "WARNING:websocket:websocket connected\n",
      "WARNING:websocket:websocket connected\n",
      "WARNING:websocket:websocket connected\n"
     ]
    }
   ],
   "source": [
    "from envs.docker_env import DockerRobocodeEnv\n",
    "env = gym.make('DockerRobocodeEnv-v0')\n",
    "env.reset()\n",
    "obs = env.step(env.action_space.sample())"
   ],
   "metadata": {
    "collapsed": false,
    "pycharm": {
     "name": "#%%\n"
    }
   }
  },
  {
   "cell_type": "code",
   "execution_count": 7,
   "outputs": [
    {
     "data": {
      "text/plain": "(600, 800, 3)"
     },
     "execution_count": 7,
     "metadata": {},
     "output_type": "execute_result"
    }
   ],
   "source": [
    "obs[0].shape"
   ],
   "metadata": {
    "collapsed": false,
    "pycharm": {
     "name": "#%%\n"
    }
   }
  },
  {
   "cell_type": "code",
   "execution_count": null,
   "outputs": [],
   "source": [],
   "metadata": {
    "collapsed": false,
    "pycharm": {
     "name": "#%%\n"
    }
   }
  }
 ],
 "metadata": {
  "kernelspec": {
   "display_name": "Python 3",
   "language": "python",
   "name": "python3"
  },
  "language_info": {
   "codemirror_mode": {
    "name": "ipython",
    "version": 2
   },
   "file_extension": ".py",
   "mimetype": "text/x-python",
   "name": "python",
   "nbconvert_exporter": "python",
   "pygments_lexer": "ipython2",
   "version": "2.7.6"
  }
 },
 "nbformat": 4,
 "nbformat_minor": 0
}